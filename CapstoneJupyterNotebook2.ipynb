{
 "cells": [
  {
   "cell_type": "markdown",
   "metadata": {},
   "source": [
    "<span style=\"color:GREEN\">This notebook contains the assignment given for week 3 in the data science capsotne.\n",
    "1. getting the tabular ata from url given as df \n",
    "2. remove the cells with nan values - Borough column \n",
    "3. replace the  empty neighborhood value to borough name.\n",
    "4. Printing shape of dataframe\n",
    "<span>\n",
    "    "
   ]
  },
  {
   "cell_type": "markdown",
   "metadata": {},
   "source": [
    "<span style=\"color:blue\"> Step 1: A. importing required libraries\n",
    "    <span>"
   ]
  },
  {
   "cell_type": "code",
   "execution_count": null,
   "metadata": {},
   "outputs": [],
   "source": [
    "#importing required libraries \n",
    "import urllib.request\n",
    "from bs4 import BeautifulSoup\n",
    "import pandas as pd \n",
    "import numpy as np"
   ]
  },
  {
   "cell_type": "markdown",
   "metadata": {},
   "source": [
    "<span style=\"color:blue\"> Step 1: \n",
    "    B.get all the content in the URL \n",
    "    C.get all the tables \n",
    "    D.then search for required table with the class name \n",
    "    E.load into dataframe\n",
    "    <span>"
   ]
  },
  {
   "cell_type": "code",
   "execution_count": null,
   "metadata": {},
   "outputs": [],
   "source": [
    "#the url used \n",
    "url_canada =\"https://en.wikipedia.org/wiki/List_of_postal_codes_of_Canada:_M\"\n",
    "#assigning the page content \n",
    "page = urllib.request.urlopen(url_canada)\n",
    "soup = BeautifulSoup(page, \"lxml\") # getting content in the format of beautifulsoup from HTML\n",
    "print(soup.prettify()) # printing the content in string - HTML format \n",
    "soup.title"
   ]
  },
  {
   "cell_type": "code",
   "execution_count": null,
   "metadata": {},
   "outputs": [],
   "source": [
    "all_tables =soup.find_all('table') # all tables data \n",
    "all_tables"
   ]
  },
  {
   "cell_type": "code",
   "execution_count": null,
   "metadata": {},
   "outputs": [],
   "source": [
    "canada_table= soup.find('table',class_=\"wikitable\")\n",
    "canada_table"
   ]
  },
  {
   "cell_type": "code",
   "execution_count": null,
   "metadata": {},
   "outputs": [],
   "source": [
    "#loading into dataframe\n",
    "column_1= []\n",
    "column_2=[]\n",
    "column_3=[]\n",
    "\n",
    "for row in canada_table.findAll('tr'):\n",
    "    cells=row.findAll('td')\n",
    "    if len(cells)==3:\n",
    "        column_1.append(cells[0].find(text=True))\n",
    "        column_2.append(cells[1].find(text=True))\n",
    "        column_3.append(cells[2].find(text=True))\n",
    "        \n",
    "df=pd.DataFrame(column_1,columns=['Postal_Code'])\n",
    "df['Borough']=column_2\n",
    "df['Neighborhood']=column_3\n"
   ]
  },
  {
   "cell_type": "code",
   "execution_count": null,
   "metadata": {},
   "outputs": [],
   "source": [
    " df.head() #getting the data of top five rows"
   ]
  },
  {
   "cell_type": "markdown",
   "metadata": {},
   "source": [
    "<span style=\"color:blue\"> \n",
    "    STEP 2 : data preprocessing: <br />\n",
    "    \n",
    "    A. basic replacement -  1. removing\"\\n\"(Borough) <br/>\n",
    "                          2. \"/\" to comma(Neighborhood) <br />\n",
    "    B. no value in Neighborhood to nan and not assigned in Borough to nan<span>"
   ]
  },
  {
   "cell_type": "code",
   "execution_count": null,
   "metadata": {},
   "outputs": [],
   "source": [
    "df.replace(to_replace=['Not assigned','','\\n','/'],\n",
    "                  value=[np.nan,np.nan,\"\",\",\"],inplace =True,regex=True) #replacing the values of the borough into nan and \\n "
   ]
  },
  {
   "cell_type": "code",
   "execution_count": null,
   "metadata": {},
   "outputs": [],
   "source": [
    "#df[df.Borough != \"Not assigned\\n\"] # one way to drop all rows with value given\n",
    "df=df.dropna(subset = [\"Borough\"])#dropping na values \n",
    "print(df['Neighborhood'].isnull().any())\n",
    "print(df['Borough'].isnull().any())\n",
    "df.Neighborhood.fillna(df.Borough, inplace=True)#replacing values "
   ]
  },
  {
   "cell_type": "markdown",
   "metadata": {},
   "source": [
    "<span style=\"color:blue\"> \n",
    "OUTPUT CROSSCHECK \n",
    "The values in the columns can bee seen her - no nan values in both borough and neighborhood columns \n",
    "<span>"
   ]
  },
  {
   "cell_type": "code",
   "execution_count": null,
   "metadata": {},
   "outputs": [],
   "source": [
    "#getting unique value in the list \n",
    "df['Borough'].unique().tolist() \n",
    "df['Neighborhood'].unique().tolist()"
   ]
  },
  {
   "cell_type": "code",
   "execution_count": null,
   "metadata": {},
   "outputs": [],
   "source": [
    "df.shape"
   ]
  }
 ],
 "metadata": {
  "kernelspec": {
   "display_name": "Python 3",
   "language": "python",
   "name": "python3"
  },
  "language_info": {
   "codemirror_mode": {
    "name": "ipython",
    "version": 3
   },
   "file_extension": ".py",
   "mimetype": "text/x-python",
   "name": "python",
   "nbconvert_exporter": "python",
   "pygments_lexer": "ipython3",
   "version": "3.7.1"
  }
 },
 "nbformat": 4,
 "nbformat_minor": 2
}
